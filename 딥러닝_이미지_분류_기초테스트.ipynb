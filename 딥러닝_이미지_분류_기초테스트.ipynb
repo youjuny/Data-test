{
  "nbformat": 4,
  "nbformat_minor": 0,
  "metadata": {
    "colab": {
      "provenance": [],
      "authorship_tag": "ABX9TyN8ekTWPUl8DWS+1paM4YHD",
      "include_colab_link": true
    },
    "kernelspec": {
      "name": "python3",
      "display_name": "Python 3"
    },
    "language_info": {
      "name": "python"
    }
  },
  "cells": [
    {
      "cell_type": "markdown",
      "metadata": {
        "id": "view-in-github",
        "colab_type": "text"
      },
      "source": [
        "<a href=\"https://colab.research.google.com/github/youjuny/Data-test/blob/main/%EB%94%A5%EB%9F%AC%EB%8B%9D_%EC%9D%B4%EB%AF%B8%EC%A7%80_%EB%B6%84%EB%A5%98_%EA%B8%B0%EC%B4%88%ED%85%8C%EC%8A%A4%ED%8A%B8.ipynb\" target=\"_parent\"><img src=\"https://colab.research.google.com/assets/colab-badge.svg\" alt=\"Open In Colab\"/></a>"
      ]
    },
    {
      "cell_type": "code",
      "execution_count": 95,
      "metadata": {
        "colab": {
          "base_uri": "https://localhost:8080/"
        },
        "id": "M_5H7JWim-az",
        "outputId": "6251546e-81f9-4202-b09a-abd884b3f083"
      },
      "outputs": [
        {
          "output_type": "stream",
          "name": "stdout",
          "text": [
            "2.15.0\n"
          ]
        }
      ],
      "source": [
        "# 관련 라이브러리 로드\n",
        "import tensorflow as tf\n",
        "\n",
        "# Helper libraries\n",
        "import numpy as np\n",
        "import matplotlib.pyplot as plt\n",
        "\n",
        "print(tf.__version__)"
      ]
    },
    {
      "cell_type": "code",
      "source": [
        "# 학습용 데이터와 테스트용 데이터 준비\n",
        "fashion_mnist = tf.keras.datasets.fashion_mnist\n",
        "\n",
        "(train_images, train_labels), (test_images, test_labels) = fashion_mnist.load_data()"
      ],
      "metadata": {
        "id": "uun-QWHsnLNr"
      },
      "execution_count": 96,
      "outputs": []
    },
    {
      "cell_type": "code",
      "source": [
        "# 데이터의 개수 및 내용 확인\n",
        "print(train_images.shape)\n",
        "print(train_labels.shape)\n",
        "print(train_labels)\n"
      ],
      "metadata": {
        "colab": {
          "base_uri": "https://localhost:8080/"
        },
        "id": "8WrDboKMnM2Y",
        "outputId": "d8146b84-c3f8-4538-a8b5-494e16aa13df"
      },
      "execution_count": 97,
      "outputs": [
        {
          "output_type": "stream",
          "name": "stdout",
          "text": [
            "(60000, 28, 28)\n",
            "(60000,)\n",
            "[9 0 0 ... 3 0 5]\n"
          ]
        }
      ]
    },
    {
      "cell_type": "code",
      "source": [
        "# 각 레이블의 클래스명을 찾기 위한 배열 생성\n",
        "class_names = ['T-shirt/top', 'Trouser', 'Pullover', 'Dress', 'Coat',\n",
        "               'Sandal', 'Shirt', 'Sneaker', 'Bag', 'Ankle boot']"
      ],
      "metadata": {
        "id": "RNDtVCddnOUC"
      },
      "execution_count": 98,
      "outputs": []
    },
    {
      "cell_type": "code",
      "source": [
        "# 레이블 3은 Dress임을 확인\n",
        "class_names[3]"
      ],
      "metadata": {
        "colab": {
          "base_uri": "https://localhost:8080/",
          "height": 35
        },
        "id": "s_q6uc62nQFU",
        "outputId": "9044876e-1200-4859-f439-01f2cd34b112"
      },
      "execution_count": 99,
      "outputs": [
        {
          "output_type": "execute_result",
          "data": {
            "text/plain": [
              "'Dress'"
            ],
            "application/vnd.google.colaboratory.intrinsic+json": {
              "type": "string"
            }
          },
          "metadata": {},
          "execution_count": 99
        }
      ]
    },
    {
      "cell_type": "code",
      "source": [
        "# train_images의 첫번째 데이터를 직접 이미지로 출력하기\n",
        "plt.figure()\n",
        "plt.imshow(train_images[0])\n",
        "plt.colorbar()\n",
        "plt.grid(False)\n",
        "plt.show()"
      ],
      "metadata": {
        "colab": {
          "base_uri": "https://localhost:8080/",
          "height": 430
        },
        "id": "ltjocA08nVCY",
        "outputId": "5faf7a7b-3666-4293-cf5d-ae3a787665e1"
      },
      "execution_count": 100,
      "outputs": [
        {
          "output_type": "display_data",
          "data": {
            "text/plain": [
              "<Figure size 640x480 with 2 Axes>"
            ],
            "image/png": "[encoded data removed]"
          },
          "metadata": {}
        }
      ]
    },
    {
      "cell_type": "code",
      "source": [
        "# 문제1.\n",
        "# 학습 속도와 성능을 높이기 위해 정규화 하기\n",
        "from sklearn.preprocessing import StandardScaler\n",
        "\n",
        "train_images = StandardScaler().fit_transform(train_images.reshape(-1, 28*28)).reshape(-1, 28, 28)\n",
        "test_images = StandardScaler().fit_transform(test_images.reshape(-1, 28*28)).reshape(-1, 28, 28)"
      ],
      "metadata": {
        "id": "GyzBm3IwnX2T"
      },
      "execution_count": 101,
      "outputs": []
    },
    {
      "cell_type": "code",
      "source": [
        "#문제2.\n",
        "# 다음과 같은 층으로 구성된 모델을 구성해주세요.\n",
        "# 입력층((28, 28))\n",
        "# 은닉층 - 300개, 활성함수 relu\n",
        "# 출력층(10)\n",
        "model = tf.keras.Sequential([\n",
        "    tf.keras.layers.Flatten(input_shape=(28,28)),\n",
        "    tf.keras.layers.Dense(300, activation='relu'),  # 은닉층\n",
        "    tf.keras.layers.Dense(10, activation='softmax')  # 출력층\n",
        "])"
      ],
      "metadata": {
        "id": "9K9Q4U3zoaIe"
      },
      "execution_count": 103,
      "outputs": []
    },
    {
      "cell_type": "code",
      "source": [
        "# 모델 세부 정보 세팅\n",
        "model.compile(optimizer='adam',\n",
        "              loss=tf.keras.losses.SparseCategoricalCrossentropy(from_logits=True),\n",
        "              metrics=['accuracy'])"
      ],
      "metadata": {
        "id": "akxzirEFpYk4"
      },
      "execution_count": 84,
      "outputs": []
    },
    {
      "cell_type": "code",
      "source": [
        "#문제3.\n",
        "#데이터를 이용해 모델 학습시키기(epochs는 5회)\n",
        "model.fit(train_images, train_labels, epochs=5)"
      ],
      "metadata": {
        "colab": {
          "base_uri": "https://localhost:8080/"
        },
        "id": "67RK__8np5No",
        "outputId": "b31dbfdf-b7f1-4aa2-acfc-59da71fcdeee"
      },
      "execution_count": 85,
      "outputs": [
        {
          "output_type": "stream",
          "name": "stdout",
          "text": [
            "Epoch 1/5\n"
          ]
        },
        {
          "output_type": "stream",
          "name": "stderr",
          "text": [
            "/usr/local/lib/python3.10/dist-packages/keras/src/backend.py:5727: UserWarning: \"`sparse_categorical_crossentropy` received `from_logits=True`, but the `output` argument was produced by a Softmax activation and thus does not represent logits. Was this intended?\n",
            "  output, from_logits = _get_logits(\n"
          ]
        },
        {
          "output_type": "stream",
          "name": "stdout",
          "text": [
            "1875/1875 [==============================] - 12s 6ms/step - loss: 0.4582 - accuracy: 0.8429\n",
            "Epoch 2/5\n",
            "1875/1875 [==============================] - 11s 6ms/step - loss: 0.3391 - accuracy: 0.8783\n",
            "Epoch 3/5\n",
            "1875/1875 [==============================] - 13s 7ms/step - loss: 0.3036 - accuracy: 0.8905\n",
            "Epoch 4/5\n",
            "1875/1875 [==============================] - 13s 7ms/step - loss: 0.2786 - accuracy: 0.8995\n",
            "Epoch 5/5\n",
            "1875/1875 [==============================] - 12s 6ms/step - loss: 0.2558 - accuracy: 0.9068\n"
          ]
        },
        {
          "output_type": "execute_result",
          "data": {
            "text/plain": [
              "<keras.src.callbacks.History at 0x7f070d8434c0>"
            ]
          },
          "metadata": {},
          "execution_count": 85
        }
      ]
    },
    {
      "cell_type": "code",
      "source": [
        "# 학습된 모델의 정확도 평가\n",
        "test_loss, test_acc = model.evaluate(test_images,  test_labels, verbose=2)\n",
        "\n",
        "print('\\nTest accuracy:', test_acc)"
      ],
      "metadata": {
        "colab": {
          "base_uri": "https://localhost:8080/"
        },
        "id": "Dhi3LqoPvSbb",
        "outputId": "32da4002-3803-4aa8-e4f3-05b816acb341"
      },
      "execution_count": 86,
      "outputs": [
        {
          "output_type": "stream",
          "name": "stdout",
          "text": [
            "313/313 - 1s - loss: 0.3943 - accuracy: 0.8715 - 924ms/epoch - 3ms/step\n",
            "\n",
            "Test accuracy: 0.8715000152587891\n"
          ]
        }
      ]
    },
    {
      "cell_type": "code",
      "source": [
        "# 학습된 모델의 결과를 확률로 볼수 있도록 설정\n",
        "probability_model = tf.keras.Sequential([model,\n",
        "                                         tf.keras.layers.Softmax()])\n",
        "predictions = probability_model.predict(test_images)"
      ],
      "metadata": {
        "colab": {
          "base_uri": "https://localhost:8080/"
        },
        "id": "G3AskOKix73K",
        "outputId": "0ff2438e-23b8-4601-e417-56474411fc5c"
      },
      "execution_count": 87,
      "outputs": [
        {
          "output_type": "stream",
          "name": "stdout",
          "text": [
            "313/313 [==============================] - 1s 3ms/step\n"
          ]
        }
      ]
    },
    {
      "cell_type": "code",
      "source": [
        "# 표기법을 보기 쉽게 소수점 표기법으로 바꿈\n",
        "import numpy as np\n",
        "\n",
        " # 과학적 표기법 대신 소수점 6자리까지 나타낸다.\n",
        "np.set_printoptions(precision=6, suppress=True)\n",
        "\n",
        "predictions"
      ],
      "metadata": {
        "colab": {
          "base_uri": "https://localhost:8080/"
        },
        "id": "xLIrMkKdx8iq",
        "outputId": "8f9b444b-3d13-4677-a958-245182a7957a"
      },
      "execution_count": 88,
      "outputs": [
        {
          "output_type": "execute_result",
          "data": {
            "text/plain": [
              "array([[0.085392, 0.085392, 0.085392, ..., 0.085768, 0.085392, 0.231091],\n",
              "       [0.085344, 0.085343, 0.231866, ..., 0.085343, 0.085343, 0.085343],\n",
              "       [0.085337, 0.231969, 0.085337, ..., 0.085337, 0.085337, 0.085337],\n",
              "       ...,\n",
              "       [0.085365, 0.085342, 0.085342, ..., 0.085342, 0.231891, 0.085342],\n",
              "       [0.085337, 0.231969, 0.085337, ..., 0.085337, 0.085337, 0.085337],\n",
              "       [0.085914, 0.085914, 0.085915, ..., 0.089885, 0.086138, 0.08592 ]],\n",
              "      dtype=float32)"
            ]
          },
          "metadata": {},
          "execution_count": 88
        }
      ]
    },
    {
      "cell_type": "code",
      "source": [
        "# 예측 결과 10개중 가장 높은 확률의 레이블을 뽑는 법\n",
        "np.argmax(predictions[0])"
      ],
      "metadata": {
        "colab": {
          "base_uri": "https://localhost:8080/"
        },
        "id": "Xs56SOu3x-OJ",
        "outputId": "96abd58f-0259-4ad8-d07a-45ddb06b4a35"
      },
      "execution_count": 89,
      "outputs": [
        {
          "output_type": "execute_result",
          "data": {
            "text/plain": [
              "9"
            ]
          },
          "metadata": {},
          "execution_count": 89
        }
      ]
    },
    {
      "cell_type": "code",
      "source": [
        "import matplotlib.pyplot as plt"
      ],
      "metadata": {
        "id": "JlqL_Iw60Fwt"
      },
      "execution_count": 90,
      "outputs": []
    },
    {
      "cell_type": "code",
      "source": [
        "# 문제4.\n",
        "# 테스트 데이터의 0번째 이미지를 모델에게 예측하게 하여 그 결과를 출력해주세요.\n",
        "img = np.expand_dims(test_images[0], axis=0)\n",
        "prediction_single = probability_model.predict(img)\n",
        "print(class_names[np.argmax(prediction_single)])"
      ],
      "metadata": {
        "colab": {
          "base_uri": "https://localhost:8080/"
        },
        "id": "4r-4SUaHx9im",
        "outputId": "5d3a4c01-688f-4053-8f96-c575c47c2e50"
      },
      "execution_count": 91,
      "outputs": [
        {
          "output_type": "stream",
          "name": "stdout",
          "text": [
            "1/1 [==============================] - 0s 26ms/step\n",
            "Ankle boot\n"
          ]
        }
      ]
    },
    {
      "cell_type": "code",
      "source": [
        "plt.figure()\n",
        "plt.imshow(test_images[0], cmap=plt.cm.binary)"
      ],
      "metadata": {
        "colab": {
          "base_uri": "https://localhost:8080/",
          "height": 448
        },
        "id": "o-LV59250Iee",
        "outputId": "fdf0b782-d862-4492-97c9-1887fc087ce9"
      },
      "execution_count": 92,
      "outputs": [
        {
          "output_type": "execute_result",
          "data": {
            "text/plain": [
              "<matplotlib.image.AxesImage at 0x7f06d7aae650>"
            ]
          },
          "metadata": {},
          "execution_count": 92
        },
        {
          "output_type": "display_data",
          "data": {
            "text/plain": [
              "<Figure size 640x480 with 1 Axes>"
            ],
            "image/png": "[encoded data removed]"
          },
          "metadata": {}
        }
      ]
    },
    {
      "cell_type": "code",
      "source": [
        "# 문제5.\n",
        "# 테스트 데이터의 100번째 이미지를 모델에게 예측하게 하여 그 결과를 출력해주세요.\n",
        "img = np.expand_dims(test_images[100], axis=0)\n",
        "prediction_single = probability_model.predict(img)\n",
        "print(class_names[np.argmax(prediction_single)])"
      ],
      "metadata": {
        "colab": {
          "base_uri": "https://localhost:8080/"
        },
        "id": "e5E8wL-8yByP",
        "outputId": "53f6303e-1f63-448e-dd38-5beddaaaaf97"
      },
      "execution_count": 93,
      "outputs": [
        {
          "output_type": "stream",
          "name": "stdout",
          "text": [
            "1/1 [==============================] - 0s 25ms/step\n",
            "Dress\n"
          ]
        }
      ]
    },
    {
      "cell_type": "code",
      "source": [
        "plt.figure()\n",
        "plt.imshow(test_images[100], cmap=plt.cm.binary)\n"
      ],
      "metadata": {
        "colab": {
          "base_uri": "https://localhost:8080/",
          "height": 448
        },
        "id": "UhThR0rezDe6",
        "outputId": "84c4753c-4fd5-43b2-ddc9-c149b50a2518"
      },
      "execution_count": 94,
      "outputs": [
        {
          "output_type": "execute_result",
          "data": {
            "text/plain": [
              "<matplotlib.image.AxesImage at 0x7f06d7b20460>"
            ]
          },
          "metadata": {},
          "execution_count": 94
        },
        {
          "output_type": "display_data",
          "data": {
            "text/plain": [
              "<Figure size 640x480 with 1 Axes>"
            ],
            "image/png": "[encoded data removed]"
          },
          "metadata": {}
        }
      ]
    }
  ]
}